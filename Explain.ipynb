{
 "cells": [
  {
   "cell_type": "code",
   "execution_count": 6,
   "metadata": {},
   "outputs": [],
   "source": [
    "exp_txt = []\n",
    "exp_txt.append('안녕하세요. \\n \\\n",
    "빅데이터반(유연수 선생님) \\n \\\n",
    "8기 정성호 입니다.')\n",
    "exp_txt.append('지금부터는 조선일보 중앙일보 동아일보 크롤링을 동영상으로 시연하도록 하겠습니다.')\n",
    "exp_txt.append('sleep이 걸려있어 오랜시간 반복되는 작업 이기 때문에 코드구현을 3개 페이지 분량으로 sleep없이 짧게 시연하도록 하겠습니다.')"
   ]
  },
  {
   "cell_type": "code",
   "execution_count": 7,
   "metadata": {},
   "outputs": [],
   "source": [
    "import  urllib.request\n",
    "from  bs4  import  BeautifulSoup\n",
    "from selenium import webdriver\n",
    "from selenium.webdriver.common.keys import Keys\n",
    "import time\n",
    "\n",
    "binary = 'C:\\project\\chromedriver\\\\chromedriver.exe'\n",
    "browser = webdriver.Chrome(binary)\n",
    "browser.get(\"https://translate.google.co.kr/?hl=ko\")\n",
    "\n",
    "for i in exp_txt:\n",
    "    browser.find_element_by_id(\"source\").send_keys(i)\n",
    "    time.sleep(5)\n",
    "    browser.find_element_by_id(\"source\").clear()\n",
    "    time.sleep(1)\n",
    "\n",
    "browser.quit()"
   ]
  },
  {
   "cell_type": "code",
   "execution_count": null,
   "metadata": {},
   "outputs": [],
   "source": []
  },
  {
   "cell_type": "code",
   "execution_count": null,
   "metadata": {},
   "outputs": [],
   "source": []
  },
  {
   "cell_type": "code",
   "execution_count": null,
   "metadata": {},
   "outputs": [],
   "source": []
  },
  {
   "cell_type": "code",
   "execution_count": null,
   "metadata": {},
   "outputs": [],
   "source": []
  },
  {
   "cell_type": "code",
   "execution_count": null,
   "metadata": {},
   "outputs": [],
   "source": []
  },
  {
   "cell_type": "code",
   "execution_count": null,
   "metadata": {},
   "outputs": [],
   "source": []
  }
 ],
 "metadata": {
  "kernelspec": {
   "display_name": "Python 3",
   "language": "python",
   "name": "python3"
  },
  "language_info": {
   "codemirror_mode": {
    "name": "ipython",
    "version": 3
   },
   "file_extension": ".py",
   "mimetype": "text/x-python",
   "name": "python",
   "nbconvert_exporter": "python",
   "pygments_lexer": "ipython3",
   "version": "3.7.1"
  }
 },
 "nbformat": 4,
 "nbformat_minor": 2
}

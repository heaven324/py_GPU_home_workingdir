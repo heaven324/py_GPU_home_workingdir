{
 "cells": [
  {
   "cell_type": "code",
   "execution_count": 23,
   "metadata": {},
   "outputs": [],
   "source": [
    "import os\n",
    "import cv2\n",
    "\n",
    "path = \"C:\\\\Users\\\\heaven\\\\Desktop\\\\imgdata\\\\400\\\\403\"\n",
    "    \n",
    "file_list = os.listdir(path)\n",
    "file_list1 = [path+'\\\\'+str(i) for i in file_list]\n",
    "for j,i in enumerate(file_list1):\n",
    "    img = cv2.imread(i)\n",
    "    resize = cv2.resize(img, (32, 32), interpolation=cv2.INTER_CUBIC)\n",
    "    cv2.imwrite(\"C:\\\\Users\\\\heaven\\\\python_project\\\\test_data\\\\total_image_32_part\\\\400\\\\\" \\\n",
    "                + str(j+1+1061) + '.jpg',resize)"
   ]
  },
  {
   "cell_type": "code",
   "execution_count": 24,
   "metadata": {},
   "outputs": [],
   "source": [
    "import os\n",
    "import cv2\n",
    "\n",
    "path = \"C:\\\\Users\\\\heaven\\\\python_project\\\\test_data\\\\total_image_32_part\\\\400\"\n",
    "    \n",
    "file_list = os.listdir(path)\n",
    "file_name = sorted([int(i[:-4]) for i in file_list])\n",
    "file_list1 = [path+'\\\\'+str(i)+'.jpg' for i in file_name]\n",
    "\n",
    "for j,i in enumerate(file_list1):\n",
    "    img = cv2.imread(i)\n",
    "    img = cv2.rotate(img, cv2.ROTATE_90_CLOCKWISE)\n",
    "    cv2.imwrite(\"C:\\\\Users\\\\heaven\\\\python_project\\\\test_data\\\\total_image_32_part\\\\test400\\\\\" + str(j+1) + '.jpg',img)"
   ]
  },
  {
   "cell_type": "code",
   "execution_count": 29,
   "metadata": {},
   "outputs": [],
   "source": [
    "f = open('C:\\\\Users\\\\heaven\\\\python_project\\\\test_data\\\\total_image_32_part\\\\label400.csv','w')\n",
    "\n",
    "\n",
    "text_save = []\n",
    "for i in range(0,1003):\n",
    "    text_save.append('0' + '\\n')\n",
    "f.writelines(text_save)\n",
    "\n",
    "text_save = []\n",
    "for i in range(0,47):\n",
    "    text_save.append('1' + '\\n')\n",
    "f.writelines(text_save)\n",
    "\n",
    "text_save = []\n",
    "for i in range(0,174):\n",
    "    text_save.append('2' + '\\n')\n",
    "f.writelines(text_save)\n",
    "\n",
    "f.close()"
   ]
  },
  {
   "cell_type": "code",
   "execution_count": 1,
   "metadata": {},
   "outputs": [
    {
     "name": "stdout",
     "output_type": "stream",
     "text": [
      "(1224, 32, 32, 3)\n",
      "(1224, 3)\n"
     ]
    }
   ],
   "source": [
    "import loader3\n",
    "\n",
    "train_image = \"C:\\\\Users\\\\heaven\\\\python_project\\\\test_data\\\\total_image_32_part\\\\400\"\n",
    "train_label = \"C:\\\\Users\\\\heaven\\\\python_project\\\\test_data\\\\total_image_32_part\\\\label400.csv\"\n",
    "\n",
    "trainX = loader3.image_load(train_image)\n",
    "trainY = loader3.label_load(train_label)\n",
    "\n",
    "print(trainX.shape)\n",
    "print(trainY.shape)"
   ]
  },
  {
   "cell_type": "code",
   "execution_count": 2,
   "metadata": {},
   "outputs": [
    {
     "name": "stdout",
     "output_type": "stream",
     "text": [
      "[1. 0. 0.]\n"
     ]
    }
   ],
   "source": [
    "print(trainY[1])"
   ]
  }
 ],
 "metadata": {
  "kernelspec": {
   "display_name": "Python 3",
   "language": "python",
   "name": "python3"
  },
  "language_info": {
   "codemirror_mode": {
    "name": "ipython",
    "version": 3
   },
   "file_extension": ".py",
   "mimetype": "text/x-python",
   "name": "python",
   "nbconvert_exporter": "python",
   "pygments_lexer": "ipython3",
   "version": "3.6.7"
  }
 },
 "nbformat": 4,
 "nbformat_minor": 2
}

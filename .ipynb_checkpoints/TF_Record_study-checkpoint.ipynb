{
 "cells": [
  {
   "cell_type": "markdown",
   "metadata": {},
   "source": [
    "# tf.placeholder"
   ]
  },
  {
   "cell_type": "markdown",
   "metadata": {},
   "source": [
    "### tf.placeholder 사용에 관한 예제"
   ]
  },
  {
   "cell_type": "code",
   "execution_count": 2,
   "metadata": {},
   "outputs": [
    {
     "name": "stdout",
     "output_type": "stream",
     "text": [
      "[ 5.  8. 13.]\n"
     ]
    }
   ],
   "source": [
    "import numpy as np\n",
    "import tensorflow as tf\n",
    "\n",
    "\n",
    "# 그래프 생성\n",
    "x = tf.placeholder(dtype=tf.float32, shape=[3]) # 그래프 생성\n",
    "y = x ** 2          # 연산\n",
    "y = y + 4           # 연산\n",
    "\n",
    "# Session 생성 및 변수 초기화\n",
    "sess = tf.Session()\n",
    "sess.run(tf.global_variables_initializer())\n",
    "\n",
    "# Session 실행\n",
    "print(sess.run(y, feed_dict={x: np.array([1, 2, 3])}))"
   ]
  },
  {
   "cell_type": "markdown",
   "metadata": {},
   "source": [
    "이러한 방식으로 생성된 모델에 학습용 데이터를 feeding해줄 수 있는 것이다.\n",
    "\n",
    "하지만, TensorFlow 공식 홈페이지에는 무려 이런 경고 메시지가 있다.\n",
    "\n",
    "Warning : \"Feeding\" is the least efficient way to feed data into a TensorFlow program and should only be used for small experiments and debugging.\n",
    "\n",
    "즉, 이런 방식의 feeding은 가장 비효율적인 방식의 데이터 입력 방식이라는 것이다. 그렇다면 대규모의 학습용 데이터셋을 입력시키기 위해서는 어떤 방식을 사용해야 할까? TensorFlow에서는 이런 작업을 위해서 tf.data 모듈을 제공한다."
   ]
  },
  {
   "cell_type": "markdown",
   "metadata": {},
   "source": [
    "# tf.data"
   ]
  },
  {
   "cell_type": "markdown",
   "metadata": {},
   "source": [
    "tf.data는 TensorFlow에서 제공하는 대규모 데이터 feeding용 모듈이다.\n",
    "\n",
    "tf.data 모듈은 가장 기본적인 배치 사이즈 설정 및 shuffle 기능까지 제공하며 또한 자체 데이터 형식인 TFRecord를 이용한 전처리 기능까지 제공한다.\n",
    "\n",
    "tf.data는 다음의 하위 모듈들을 제공한다.\n",
    "\n",
    "    ◆Dataset\n",
    "    ◆FixedLengthRecordDataset\n",
    "    ◆Iterator\n",
    "    ◆TFRecordDataset\n",
    "    ◆TextLineDataset\n"
   ]
  },
  {
   "cell_type": "markdown",
   "metadata": {},
   "source": [
    "## Dataset 모듈\n",
    "\n",
    "### 개요\n",
    "\n",
    "    ▶ Dataset 생성 : tf.data.Dataset을 생성하는 것으로 메모리에 한번에 로드하여 사용할 수도 있으며, 동적으로 전달하여 사용할 수도 있습니다.\n",
    "    ▶ Iterator(반복자) 생성 : 데이터를 조회할때 사용되는 iterator 를 생성합니다.\n",
    "    ▶ 데이터 사용 : 실제 모델에 데이터를 입력하거나, 읽게 됩니다."
   ]
  },
  {
   "cell_type": "code",
   "execution_count": 6,
   "metadata": {},
   "outputs": [
    {
     "name": "stdout",
     "output_type": "stream",
     "text": [
      "[0.92730868 0.16548902]\n",
      "[0.29033888 0.21325601]\n",
      "[0.5843332  0.37241739]\n",
      "[0.18965329 0.10798126]\n",
      "[0.23113767 0.21635167]\n",
      "[0.22753904 0.95880519]\n",
      "[0.83025966 0.70185791]\n",
      "[0.62588742 0.17526833]\n",
      "[0.96049702 0.19150871]\n",
      "[0.38144989 0.56863376]\n"
     ]
    }
   ],
   "source": [
    "import tensorflow as tf\n",
    "import numpy as np\n",
    "\n",
    "# Dataset 생성\n",
    "x = np.random.sample((10, 2))\n",
    "dataset = tf.data.Dataset.from_tensor_slices(x)\n",
    "\n",
    "# Iterator 생성\n",
    "iterator = dataset.make_one_shot_iterator()\n",
    "next_element = iterator.get_next() # 다음 항목에 연결된 tf.Tensor 객체를 리턴\n",
    "\n",
    "# 세션 실행\n",
    "with tf.Session() as sess:\n",
    "    while True:\n",
    "        try:\n",
    "            print(sess.run(next_element))\n",
    "        except tf.errors.OutOfRangeError:\n",
    "            break"
   ]
  }
 ],
 "metadata": {
  "kernelspec": {
   "display_name": "Python 3",
   "language": "python",
   "name": "python3"
  },
  "language_info": {
   "codemirror_mode": {
    "name": "ipython",
    "version": 3
   },
   "file_extension": ".py",
   "mimetype": "text/x-python",
   "name": "python",
   "nbconvert_exporter": "python",
   "pygments_lexer": "ipython3",
   "version": "3.6.7"
  }
 },
 "nbformat": 4,
 "nbformat_minor": 2
}

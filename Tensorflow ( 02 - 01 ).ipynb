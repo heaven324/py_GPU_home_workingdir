{
 "cells": [
  {
   "cell_type": "code",
   "execution_count": 1,
   "metadata": {},
   "outputs": [],
   "source": [
    "import tensorflow"
   ]
  },
  {
   "cell_type": "code",
   "execution_count": 20,
   "metadata": {},
   "outputs": [
    {
     "name": "stdout",
     "output_type": "stream",
     "text": [
      "b'Hello, Tensorflow'\n",
      "Hello, Tensorflow\n"
     ]
    }
   ],
   "source": [
    "# 예제1.  \n",
    "\n",
    "import  tensorflow  as  tf\n",
    "\n",
    "sess = tf.Session()  # 그래프를 실행할 세션을 구성한다. \n",
    "hello = tf.constant('Hello, Tensorflow')\n",
    "\n",
    "print ( sess.run(hello)) \n",
    "print (str(sess.run(hello), encoding=\"utf-8\"))"
   ]
  },
  {
   "cell_type": "code",
   "execution_count": 29,
   "metadata": {},
   "outputs": [
    {
     "name": "stdout",
     "output_type": "stream",
     "text": [
      "40\n"
     ]
    }
   ],
   "source": [
    "#예제2.\n",
    "\n",
    "import  tensorflow  as  tf\n",
    "\n",
    "x = tf.constant(35, name='x')\n",
    "y = tf.Variable( x + 5, name='y')\n",
    "model = tf.global_variables_initializer()\n",
    "\n",
    "sess = tf.Session()\n",
    "sess.run(model)\n",
    "\n",
    "print (sess.run(y)) "
   ]
  },
  {
   "cell_type": "code",
   "execution_count": 33,
   "metadata": {},
   "outputs": [
    {
     "name": "stdout",
     "output_type": "stream",
     "text": [
      "Tensor(\"Add_5:0\", shape=(), dtype=int32)\n"
     ]
    }
   ],
   "source": [
    "#예제3.\n",
    "\n",
    "import  tensorflow  as  tf\n",
    "\n",
    "a = tf.constant(10)\n",
    "b = tf.constant(32)\n",
    "c = tf.add(a,b)\n",
    "print(c)"
   ]
  },
  {
   "cell_type": "code",
   "execution_count": 34,
   "metadata": {},
   "outputs": [
    {
     "name": "stdout",
     "output_type": "stream",
     "text": [
      "42\n"
     ]
    }
   ],
   "source": [
    "#문제1. 위에서 만든 텐써 그래프를 실행하시오 !\n",
    "\n",
    "sess = tf.Session()\n",
    "print (sess.run(c))"
   ]
  },
  {
   "cell_type": "code",
   "execution_count": 36,
   "metadata": {},
   "outputs": [
    {
     "name": "stdout",
     "output_type": "stream",
     "text": [
      "10780\n"
     ]
    }
   ],
   "source": [
    "#문제2. 아래의 모델(그래프) 를 실행하시오 !\n",
    "\n",
    "import  tensorflow  as  tf\n",
    "\n",
    "a = tf.add(1,2)\n",
    "b = tf.multiply(a,3)\n",
    "c = tf.add(b,5)\n",
    "d = tf.multiply(c,6)\n",
    "e = tf.multiply(d,5)\n",
    "f = tf.div(e,6)\n",
    "g = tf.add(f,d)\n",
    "h = tf.multiply(g,f)\n",
    "\n",
    "sess = tf.Session()\n",
    "print (sess.run(h)) \n",
    "sess.close()"
   ]
  },
  {
   "cell_type": "code",
   "execution_count": 37,
   "metadata": {},
   "outputs": [
    {
     "name": "stdout",
     "output_type": "stream",
     "text": [
      "10780\n"
     ]
    }
   ],
   "source": [
    "#문제3. 위의 예제를 with 절 사용해서 구현하시오 !\n",
    "\n",
    "import  tensorflow  as  tf\n",
    "\n",
    "a = tf.add(1,2)\n",
    "b = tf.multiply(a,3)\n",
    "c = tf.add(b,5)\n",
    "d = tf.multiply(c,6)\n",
    "e = tf.multiply(d,5)\n",
    "f = tf.div(e,6)\n",
    "g = tf.add(f,d)\n",
    "h = tf.multiply(g,f)\n",
    "\n",
    "# sess = tf.Session()\n",
    "# print (sess.run(h)) \n",
    "# sess.close()  <---  세션을 닫는 구문을 작성해줘야한다. \n",
    "\n",
    "with  tf.Session()  as  sess:\n",
    "    print ( sess.run(h) )"
   ]
  },
  {
   "cell_type": "code",
   "execution_count": 40,
   "metadata": {},
   "outputs": [
    {
     "name": "stdout",
     "output_type": "stream",
     "text": [
      "2  x  1  =  2\n",
      "2  x  2  =  4\n",
      "2  x  3  =  6\n",
      "2  x  4  =  8\n",
      "2  x  5  =  10\n",
      "2  x  6  =  12\n",
      "2  x  7  =  14\n",
      "2  x  8  =  16\n",
      "2  x  9  =  18\n"
     ]
    }
   ],
   "source": [
    "#문제4. 위의 코드를 이용해서 구구단 2단을 출력하시오 !\n",
    "\n",
    "#  tf.multiply 를 활용하세요 !\n",
    "\n",
    "#  2 x 1 = 2\n",
    "#  2 x 2 = 4\n",
    "#  2 x 3 = 6\n",
    "#     :\n",
    "#  2 x 9 = 18 \n",
    "\n",
    "import  tensorflow  as  tf\n",
    "\n",
    "x = tf.Variable(2)\n",
    "y = tf.Variable(1)\n",
    "\n",
    "model = tf.global_variables_initializer()\n",
    "\n",
    "sess = tf.Session()\n",
    "\n",
    "sess.run(model)\n",
    "\n",
    "for i in  range(9):\n",
    "    z = tf.multiply(x,y)\n",
    "    print ( sess.run(x),\" x \", sess.run(y), \" = \" , sess.run(z))\n",
    "    y = y + 1"
   ]
  },
  {
   "cell_type": "code",
   "execution_count": 41,
   "metadata": {
    "scrolled": true
   },
   "outputs": [
    {
     "name": "stdout",
     "output_type": "stream",
     "text": [
      "2  x  1  =  2\n",
      "2  x  2  =  4\n",
      "2  x  3  =  6\n",
      "2  x  4  =  8\n",
      "2  x  5  =  10\n",
      "2  x  6  =  12\n",
      "2  x  7  =  14\n",
      "2  x  8  =  16\n",
      "2  x  9  =  18\n",
      "3  x  1  =  3\n",
      "3  x  2  =  6\n",
      "3  x  3  =  9\n",
      "3  x  4  =  12\n",
      "3  x  5  =  15\n",
      "3  x  6  =  18\n",
      "3  x  7  =  21\n",
      "3  x  8  =  24\n",
      "3  x  9  =  27\n",
      "4  x  1  =  4\n",
      "4  x  2  =  8\n",
      "4  x  3  =  12\n",
      "4  x  4  =  16\n",
      "4  x  5  =  20\n",
      "4  x  6  =  24\n",
      "4  x  7  =  28\n",
      "4  x  8  =  32\n",
      "4  x  9  =  36\n",
      "5  x  1  =  5\n",
      "5  x  2  =  10\n",
      "5  x  3  =  15\n",
      "5  x  4  =  20\n",
      "5  x  5  =  25\n",
      "5  x  6  =  30\n",
      "5  x  7  =  35\n",
      "5  x  8  =  40\n",
      "5  x  9  =  45\n",
      "6  x  1  =  6\n",
      "6  x  2  =  12\n",
      "6  x  3  =  18\n",
      "6  x  4  =  24\n",
      "6  x  5  =  30\n",
      "6  x  6  =  36\n",
      "6  x  7  =  42\n",
      "6  x  8  =  48\n",
      "6  x  9  =  54\n",
      "7  x  1  =  7\n",
      "7  x  2  =  14\n",
      "7  x  3  =  21\n",
      "7  x  4  =  28\n",
      "7  x  5  =  35\n",
      "7  x  6  =  42\n",
      "7  x  7  =  49\n",
      "7  x  8  =  56\n",
      "7  x  9  =  63\n",
      "8  x  1  =  8\n",
      "8  x  2  =  16\n",
      "8  x  3  =  24\n",
      "8  x  4  =  32\n",
      "8  x  5  =  40\n",
      "8  x  6  =  48\n",
      "8  x  7  =  56\n",
      "8  x  8  =  64\n",
      "8  x  9  =  72\n",
      "9  x  1  =  9\n",
      "9  x  2  =  18\n",
      "9  x  3  =  27\n",
      "9  x  4  =  36\n",
      "9  x  5  =  45\n",
      "9  x  6  =  54\n",
      "9  x  7  =  63\n",
      "9  x  8  =  72\n",
      "9  x  9  =  81\n"
     ]
    }
   ],
   "source": [
    "# 문제5. 구구단 2단에서 9단까지 출력하시오 ! \n",
    "\n",
    "import  tensorflow  as  tf\n",
    "\n",
    "x = tf.Variable(0)\n",
    "y = tf.Variable(0)\n",
    "z = tf.multiply(x,y)\n",
    "\n",
    "model = tf.global_variables_initializer()\n",
    "\n",
    "sess = tf.Session()\n",
    "\n",
    "sess.run(model)\n",
    "\n",
    "for i in  range(2,10):\n",
    "    for j in  range(1,10):\n",
    "        print (i,\" x \", j,\" = \",sess.run(z,feed_dict={x:i,y:j}))"
   ]
  },
  {
   "cell_type": "code",
   "execution_count": 43,
   "metadata": {},
   "outputs": [
    {
     "name": "stdout",
     "output_type": "stream",
     "text": [
      "2.0\n"
     ]
    }
   ],
   "source": [
    "#문제6.(점심시간 문제) 아래의 텐써 그래프를 실행하시오 ! 숫자는 알아서 feed 하세요 ~\n",
    "\n",
    "import  tensorflow  as  tf\n",
    "\n",
    "a = tf.placeholder(\"float\")\n",
    "b = tf.placeholder(\"float\")\n",
    "\n",
    "y = tf.multiply(a,b)\n",
    "z = tf.add(y,y)\n",
    "\n",
    "sess = tf.Session()\n",
    "print(sess.run(z,feed_dict={a:1,b:1}))"
   ]
  },
  {
   "cell_type": "code",
   "execution_count": 4,
   "metadata": {},
   "outputs": [
    {
     "name": "stdout",
     "output_type": "stream",
     "text": [
      "[[0. 0.]\n",
      " [0. 0.]]\n",
      "[[1. 1.]\n",
      " [1. 1.]]\n",
      "[[0. 0.]\n",
      " [0. 0.]]\n",
      "[[1. 1.]\n",
      " [1. 1.]]\n"
     ]
    }
   ],
   "source": [
    "#문제 7. zero와 숫자 1을 채워넣는 배열을 생성하시오 !\n",
    "\n",
    "#1. numpy\n",
    "import numpy as np\n",
    "\n",
    "a = np.zeros((2, 2))\n",
    "b = np.ones((2, 2))\n",
    "print(a)\n",
    "print(b)\n",
    "\n",
    "#2. tensorflow\n",
    "\n",
    "import tensorflow as tf\n",
    "\n",
    "a = tf.zeros((2, 2))\n",
    "b = tf.ones((2, 2))\n",
    "\n",
    "sess = tf.Session()\n",
    "print(sess.run(a))\n",
    "print(sess.run(b))\n",
    "\n",
    "sess.close()"
   ]
  },
  {
   "cell_type": "code",
   "execution_count": 12,
   "metadata": {},
   "outputs": [
    {
     "name": "stdout",
     "output_type": "stream",
     "text": [
      "3\n",
      "3\n"
     ]
    }
   ],
   "source": [
    "#문제 8. 아래의 numpy문법을 tensorflow로 구현하시오 !\n",
    "\n",
    "#1. numpy\n",
    "import numpy as np\n",
    "\n",
    "a = np.array([0, 0, 0, 1, 0, 0, 0, 0, 0, 0])\n",
    "print(np.argmax(a, axis = 0))\n",
    "\n",
    "#2. tensorflow\n",
    "import numpy as np\n",
    "import tensorflow as tf\n",
    "\n",
    "a = np.array([0, 0, 0, 1, 0, 0, 0, 0, 0, 0])\n",
    "b = tf.argmax(a, axis=0)\n",
    "\n",
    "sess = tf.Session()\n",
    "print(sess.run(b))\n",
    "sess.close()"
   ]
  },
  {
   "cell_type": "code",
   "execution_count": 17,
   "metadata": {},
   "outputs": [
    {
     "name": "stdout",
     "output_type": "stream",
     "text": [
      "[[10  8 12]\n",
      " [10  8 11]\n",
      " [11  5 12]\n",
      " [13 15  6]]\n",
      "[[10  8 12]\n",
      " [10  8 11]\n",
      " [11  5 12]\n",
      " [13 15  6]]\n"
     ]
    }
   ],
   "source": [
    "#문제 9. 아래의 numpy문법을 텐서 플로우로 구현하시오 !\n",
    "\n",
    "#1. numpy\n",
    "\n",
    "import  tensorflow  as  tf\n",
    "import  numpy  as  np\n",
    "\n",
    "a = np.array([[[1, 2, 3],\n",
    "               [2, 1, 4],\n",
    "               [5, 2, 1],\n",
    "               [6, 3, 2]],\n",
    "              [[5, 1, 3],\n",
    "               [1, 3, 4],\n",
    "               [4, 2, 6],\n",
    "               [3, 9, 3]],\n",
    "              [[4, 5, 6],\n",
    "               [7, 4, 3],\n",
    "               [2, 1, 5],\n",
    "               [4, 3, 1]]])\n",
    "\n",
    "print  ( np.sum( a, axis = 0) )\n",
    "\n",
    "\n",
    "#2. tensorflow\n",
    "\n",
    "import  tensorflow  as  tf\n",
    "import  numpy  as  np\n",
    "\n",
    "a = np.array([[[1, 2, 3],\n",
    "               [2, 1, 4],\n",
    "               [5, 2, 1],\n",
    "               [6, 3, 2]],\n",
    "              [[5, 1, 3],\n",
    "               [1, 3, 4],\n",
    "               [4, 2, 6],\n",
    "               [3, 9, 3]],\n",
    "              [[4, 5, 6],\n",
    "               [7, 4, 3],\n",
    "               [2, 1, 5],\n",
    "               [4, 3, 1]]])\n",
    "b = tf.reduce_sum(a, reduction_indices = [0])\n",
    "\n",
    "sess = tf.Session()\n",
    "print(sess.run(b))\n",
    "sess.close()"
   ]
  },
  {
   "cell_type": "code",
   "execution_count": 22,
   "metadata": {},
   "outputs": [
    {
     "name": "stdout",
     "output_type": "stream",
     "text": [
      "(12, 12)\n",
      "[[  0   1   2   3   4   5   6   7   8   9  10  11]\n",
      " [ 12  13  14  15  16  17  18  19  20  21  22  23]\n",
      " [ 24  25  26  27  28  29  30  31  32  33  34  35]\n",
      " [ 36  37  38  39  40  41  42  43  44  45  46  47]\n",
      " [ 48  49  50  51  52  53  54  55  56  57  58  59]\n",
      " [ 60  61  62  63  64  65  66  67  68  69  70  71]\n",
      " [ 72  73  74  75  76  77  78  79  80  81  82  83]\n",
      " [ 84  85  86  87  88  89  90  91  92  93  94  95]\n",
      " [ 96  97  98  99 100 101 102 103 104 105 106 107]\n",
      " [108 109 110 111 112 113 114 115 116 117 118 119]\n",
      " [120 121 122 123 124 125 126 127 128 129 130 131]\n",
      " [132 133 134 135 136 137 138 139 140 141 142 143]]\n",
      "(12, 12)\n"
     ]
    }
   ],
   "source": [
    "#문제 10. 아래의 numnpy문법을 tensorflow로 구현하시오 !\n",
    "\n",
    "#1. numpy\n",
    "import numpy as np\n",
    "\n",
    "a = np.array([i for i in range(144)])\n",
    "b = a.reshape(12,12)\n",
    "print(b.shape)\n",
    "\n",
    "\n",
    "#2. tensorflow\n",
    "import tensorflow as tf\n",
    "import numpy as np\n",
    "\n",
    "a = np.array([i for i in range(144)])\n",
    "b = tf.reshape(a, (12, 12))\n",
    "\n",
    "sess = tf.Session()\n",
    "print(sess.run(b))\n",
    "print(b.get_shape())\n",
    "\n",
    "sess.close()"
   ]
  },
  {
   "cell_type": "code",
   "execution_count": 26,
   "metadata": {},
   "outputs": [
    {
     "name": "stdout",
     "output_type": "stream",
     "text": [
      "[3 5 7]\n",
      "[3 5 7]\n"
     ]
    }
   ],
   "source": [
    "#문제 11. (텐서 플로우로 구현한 단층 신경망 이해에 중요 문법) 아래의 numpy배열의 열단위 sum을 출력하시오 !\n",
    "\n",
    "#1. numpy\n",
    "import numpy as np\n",
    "import tensorflow as tf\n",
    "\n",
    "x = np.arange(6).reshape(2, 3)\n",
    "print(np.sum(x, axis=0))\n",
    "\n",
    "\n",
    "#2. tensor\n",
    "import numpy as np\n",
    "import tensorflow as tf\n",
    "\n",
    "x = np.arange(6)\n",
    "y = tf.reshape(x, (2, 3))\n",
    "z = tf.reduce_sum(y, reduction_indices = [0])\n",
    "\n",
    "sess = tf.Session()\n",
    "print(sess.run(z))\n",
    "\n",
    "sess.close()"
   ]
  },
  {
   "cell_type": "code",
   "execution_count": 32,
   "metadata": {},
   "outputs": [
    {
     "name": "stdout",
     "output_type": "stream",
     "text": [
      "[[0. 0. 0.]\n",
      " [0. 0. 0.]]\n",
      "[[1. 1. 1.]\n",
      " [1. 1. 1.]]\n",
      "[[1. 1. 1.]\n",
      " [1. 1. 1.]]\n"
     ]
    }
   ],
   "source": [
    "#문제 12. (텐서 플로우로 구현한 단층 신경망 이해에 중요 문법) 아래의 두 행렬의 합을 tensorflow로 구현하시오 !\n",
    "\n",
    "#  0 0 0 + 1 1 1  =  1 1 1\n",
    "#  0 0 0   1 1 1     1 1 1\n",
    "\n",
    "import tensorflow as tf\n",
    "\n",
    "a = tf.zeros([2, 3])\n",
    "b = tf.ones([2, 3])\n",
    "result = tf.add(a, b)\n",
    "\n",
    "sess = tf.Session()\n",
    "\n",
    "print(sess.run(a))\n",
    "print(sess.run(b))\n",
    "print(sess.run(result))\n",
    "sess.close()"
   ]
  },
  {
   "cell_type": "code",
   "execution_count": 39,
   "metadata": {},
   "outputs": [
    {
     "name": "stdout",
     "output_type": "stream",
     "text": [
      "[[18. 18.]\n",
      " [18. 18.]]\n"
     ]
    }
   ],
   "source": [
    "#문제 13. 아래의 행렬의 내적을 tensoflow로 구현하시오 !\n",
    "\n",
    "# 2 2 2  ◎  3 3      \n",
    "# 2 2 2      3 3  =  ?\n",
    "#            3 3 \n",
    "\n",
    "import tensorflow as tf\n",
    "import numpy as np\n",
    "\n",
    "x = tf.placeholder(\"float\", [2, 3])\n",
    "y = tf.placeholder(\"float\", [3, 2])\n",
    "result = tf.matmul(x, y)\n",
    "\n",
    "sess = tf.Session()\n",
    "\n",
    "print(sess.run(result, feed_dict = {x : [[2,2,2],[2,2,2,]],\n",
    "                                    y : [[3,3],[3,3],[3,3]]}))\n",
    "sess.close()"
   ]
  },
  {
   "cell_type": "code",
   "execution_count": 44,
   "metadata": {},
   "outputs": [
    {
     "name": "stdout",
     "output_type": "stream",
     "text": [
      "[1. 0. 1. 1. 1. 1. 1. 1. 1. 1. 1. 1. 1. 1. 1. 0. 1. 1. 0. 1. 1. 1. 1. 1.\n",
      " 1. 1. 1. 1. 1. 1. 1. 1. 1. 1. 1. 1. 1. 1. 1. 1. 1. 1. 1. 1. 1. 1. 1. 1.\n",
      " 1. 1. 1. 1. 1. 1. 1. 1. 1. 1. 1. 1. 1. 1. 1. 1. 1. 1. 0. 1. 1. 1. 1. 1.\n",
      " 1. 1. 0. 1. 0. 1. 1. 1. 1. 1. 1. 1. 1. 1. 1. 1. 1. 1. 1. 1. 1. 1. 1. 1.\n",
      " 0. 1. 1. 1.]\n"
     ]
    }
   ],
   "source": [
    "#문제 14. (tensorflow의 cast함수의 이해) 아래의 배열의 True를 1로 변경하고 False를 0으로 변경시키시오 !\n",
    "\n",
    "import tensorflow as tf\n",
    "\n",
    "correct_prediction = [ True, False , True  ,True  ,True  ,True  ,True,  True  ,True  ,True  ,True  ,True\n",
    "  ,True  ,True  ,True, False , True  ,True, False , True  ,True  ,True  ,True  ,True\n",
    "  ,True  ,True  ,True  ,True  ,True  ,True  ,True  ,True  ,True  ,True  ,True  ,True\n",
    "  ,True  ,True  ,True  ,True  ,True  ,True  ,True  ,True  ,True  ,True  ,True  ,True,\n",
    "  True  ,True  ,True  ,True  ,True  ,True  ,True  ,True  ,True  ,True  ,True  ,True\n",
    "  ,True  ,True  ,True  ,True  ,True  ,True ,False , True  ,True  ,True  ,True  ,True\n",
    "  ,True  ,True, False , True, False , True  ,True  ,True  ,True  ,True  ,True  ,True\n",
    "  ,True  ,True  ,True  ,True  ,True  ,True  ,True  ,True  ,True  ,True  ,True  ,True\n",
    " ,False , True  ,True  ,True]\n",
    "\n",
    "sess = tf.Session()\n",
    "\n",
    "a = tf.cast(correct_prediction,\"float\")\n",
    "\n",
    "print(sess.run(a))\n",
    "sess.close()"
   ]
  },
  {
   "cell_type": "code",
   "execution_count": 46,
   "metadata": {},
   "outputs": [
    {
     "name": "stdout",
     "output_type": "stream",
     "text": [
      "0.93\n"
     ]
    }
   ],
   "source": [
    "#문제 15. 위의 출력된 결과에서 전체 갯수 중에 1이 몇개나 되는지 정확도를 출력하시오 1\n",
    "#전체 다 더해서 전체 갯수로 나눈 값을 아래와 같이 출력하시오 !\n",
    "\n",
    "import tensorflow as tf\n",
    "\n",
    "correct_prediction = [ True, False , True  ,True  ,True  ,True  ,True,  True  ,True  ,True  ,True  ,True\n",
    "  ,True  ,True  ,True, False , True  ,True, False , True  ,True  ,True  ,True  ,True\n",
    "  ,True  ,True  ,True  ,True  ,True  ,True  ,True  ,True  ,True  ,True  ,True  ,True\n",
    "  ,True  ,True  ,True  ,True  ,True  ,True  ,True  ,True  ,True  ,True  ,True  ,True,\n",
    "  True  ,True  ,True  ,True  ,True  ,True  ,True  ,True  ,True  ,True  ,True  ,True\n",
    "  ,True  ,True  ,True  ,True  ,True  ,True ,False , True  ,True  ,True  ,True  ,True\n",
    "  ,True  ,True, False , True, False , True  ,True  ,True  ,True  ,True  ,True  ,True\n",
    "  ,True  ,True  ,True  ,True  ,True  ,True  ,True  ,True  ,True  ,True  ,True  ,True\n",
    " ,False , True  ,True  ,True]\n",
    "\n",
    "sess = tf.Session()\n",
    "\n",
    "a = tf.cast(correct_prediction,\"float\")\n",
    "b = tf.reduce_mean(a)\n",
    "\n",
    "print(sess.run(b))\n",
    "sess.close()"
   ]
  },
  {
   "cell_type": "code",
   "execution_count": 49,
   "metadata": {},
   "outputs": [
    {
     "name": "stdout",
     "output_type": "stream",
     "text": [
      "Extracting MNIST_data/train-images-idx3-ubyte.gz\n",
      "Extracting MNIST_data/train-labels-idx1-ubyte.gz\n",
      "Extracting MNIST_data/t10k-images-idx3-ubyte.gz\n",
      "Extracting MNIST_data/t10k-labels-idx1-ubyte.gz\n",
      "(100, 784)\n",
      "(100, 10)\n"
     ]
    }
   ],
   "source": [
    "#문제 16. Tensorflow에 기본적으로 내장되어 있는 mnist데이터를 가져오시오 !\n",
    "\n",
    "import tensorflow as tf\n",
    "from tensorflow.examples.tutorials.mnist import input_data\n",
    "\n",
    "mnist = input_data.read_data_sets(\"MNIST_data/\", one_hot=True)\n",
    "batch_xs, batch_ys = mnist.train.next_batch(100)\n",
    "\n",
    "print(batch_xs.shape)\n",
    "print(batch_ys.shape)"
   ]
  },
  {
   "cell_type": "code",
   "execution_count": 54,
   "metadata": {},
   "outputs": [
    {
     "name": "stdout",
     "output_type": "stream",
     "text": [
      "Extracting MNIST_data/train-images-idx3-ubyte.gz\n",
      "Extracting MNIST_data/train-labels-idx1-ubyte.gz\n",
      "Extracting MNIST_data/t10k-images-idx3-ubyte.gz\n",
      "Extracting MNIST_data/t10k-labels-idx1-ubyte.gz\n",
      "(100, 784)\n",
      "[8 1 8 5 0 5 0 9 1 0 8 3 2 5 5 8 5 2 6 2 4 5 2 3 6 7 2 1 6 0 5 8 5 9 1 4 5\n",
      " 7 1 2 9 6 8 9 0 6 6 4 7 8 2 6 2 2 2 4 5 6 8 0 9 2 6 1 1 0 5 7 5 4 1 0 2 1\n",
      " 0 6 7 7 6 7 2 3 4 5 2 7 8 2 4 9 5 3 4 8 7 7 7 3 3 7]\n"
     ]
    }
   ],
   "source": [
    "#문제 17. 위의 mnist 데이터 중에 train데이터의 라벨을 one hot encoding하지 말고 숫자로 100개의 라벨을 가져오시오 !\n",
    "\n",
    "import tensorflow as tf\n",
    "from tensorflow.examples.tutorials.mnist import input_data\n",
    "\n",
    "mnist = input_data.read_data_sets(\"MNIST_data/\")\n",
    "batch_xs, batch_ys = mnist.train.next_batch(100)\n",
    "\n",
    "print(batch_xs.shape)\n",
    "print(batch_ys)"
   ]
  },
  {
   "cell_type": "code",
   "execution_count": 55,
   "metadata": {},
   "outputs": [
    {
     "name": "stdout",
     "output_type": "stream",
     "text": [
      "Extracting MNIST_data/train-images-idx3-ubyte.gz\n",
      "Extracting MNIST_data/train-labels-idx1-ubyte.gz\n",
      "Extracting MNIST_data/t10k-images-idx3-ubyte.gz\n",
      "Extracting MNIST_data/t10k-labels-idx1-ubyte.gz\n",
      "(100, 784)\n",
      "(100, 10)\n"
     ]
    }
   ],
   "source": [
    "#문제 18. 이번에는 test데이터와 test 데이터의 라벨을 100개를 가져오는데 shape만 출력하시오 !\n",
    "\n",
    "import tensorflow as tf\n",
    "from tensorflow.examples.tutorials.mnist import input_data\n",
    "\n",
    "mnist = input_data.read_data_sets(\"MNIST_data/\", one_hot = True)\n",
    "batch_xs, batch_ys = mnist.test.next_batch(100)\n",
    "\n",
    "print(batch_xs.shape)\n",
    "print(batch_ys.shape)"
   ]
  },
  {
   "cell_type": "code",
   "execution_count": 59,
   "metadata": {},
   "outputs": [
    {
     "name": "stdout",
     "output_type": "stream",
     "text": [
      "[[2. 2. 2.]\n",
      " [2. 2. 2.]]\n"
     ]
    }
   ],
   "source": [
    "#문제 19. 숫자 2로 채워진 행렬 2x3행렬을 텐서 플로우로 출력하시오 !\n",
    "\n",
    "import tensorflow as tf\n",
    "\n",
    "a = tf.placeholder(\"float\",[2, 3])\n",
    "\n",
    "sess = tf.Session()\n",
    "\n",
    "print(sess.run(a, feed_dict = {a : [[2, 2, 2], [2, 2, 2]]}))"
   ]
  },
  {
   "cell_type": "code",
   "execution_count": 64,
   "metadata": {},
   "outputs": [
    {
     "name": "stdout",
     "output_type": "stream",
     "text": [
      "[[2. 2. 2.]\n",
      " [2. 2. 2.]\n",
      " [2. 2. 2.]]\n"
     ]
    }
   ],
   "source": [
    "# ----아래와 같이 숫자 2를 None으로 바꿔서 실행해 보시오 !\n",
    "\n",
    "import tensorflow as tf\n",
    "\n",
    "a = tf.placeholder(\"float\",[None, 3])\n",
    "\n",
    "sess = tf.Session()\n",
    "\n",
    "print(sess.run(a, feed_dict = {a : [[2, 2, 2], [2, 2, 2], [2, 2, 2]]}))"
   ]
  },
  {
   "cell_type": "code",
   "execution_count": 67,
   "metadata": {},
   "outputs": [
    {
     "name": "stdout",
     "output_type": "stream",
     "text": [
      "Extracting MNIST_data/train-images-idx3-ubyte.gz\n",
      "Extracting MNIST_data/train-labels-idx1-ubyte.gz\n",
      "Extracting MNIST_data/t10k-images-idx3-ubyte.gz\n",
      "Extracting MNIST_data/t10k-labels-idx1-ubyte.gz\n",
      "(100, 784)\n"
     ]
    }
   ],
   "source": [
    "#문제 20. Mnist 데이터 784(28x28)개에 맞게 x 변수를 placeholder로 선언하고 배치로 입력될 데이터의 갯수는 몇개이든 상관없게 None으로 변수를 만들고 Mnist데이터를 x변수에 100개를 담고 출력해 보시오 !\n",
    "\n",
    "import tensorflow as tf\n",
    "from tensorflow.examples.tutorials.mnist import input_data\n",
    "\n",
    "mnist = input_data.read_data_sets(\"MNIST_data/\", one_hot = True)\n",
    "\n",
    "x = tf.placeholder(\"float\", [None,784])\n",
    "batch_xs, batch_ys = mnist.test.next_batch(100)\n",
    "\n",
    "sess = tf.Session()\n",
    "print(sess.run(x, feed_dict = {x : batch_xs}).shape)"
   ]
  },
  {
   "cell_type": "code",
   "execution_count": 69,
   "metadata": {},
   "outputs": [
    {
     "name": "stdout",
     "output_type": "stream",
     "text": [
      "Extracting MNIST_data/train-images-idx3-ubyte.gz\n",
      "Extracting MNIST_data/train-labels-idx1-ubyte.gz\n",
      "Extracting MNIST_data/t10k-images-idx3-ubyte.gz\n",
      "Extracting MNIST_data/t10k-labels-idx1-ubyte.gz\n",
      "(100, 784)\n",
      "(100, 10)\n"
     ]
    }
   ],
   "source": [
    "#문제 21. 위의 코드를 수정해서 훈련데이터 100개 뿐만 아니라 훈련데이터 라벨 100개도 출력되게끔 코드를 추가하시오 !\n",
    "\n",
    "import tensorflow as tf\n",
    "from tensorflow.examples.tutorials.mnist import input_data\n",
    "\n",
    "mnist = input_data.read_data_sets(\"MNIST_data/\", one_hot = True)\n",
    "\n",
    "x = tf.placeholder(\"float\", [None,784])\n",
    "y = tf.placeholder(\"float\", [None, 10])\n",
    "batch_xs, batch_ys = mnist.test.next_batch(100)\n",
    "\n",
    "sess = tf.Session()\n",
    "print(sess.run(x, feed_dict = {x : batch_xs}).shape)\n",
    "print(sess.run(y, feed_dict = {y : batch_ys}).shape)\n",
    "sess.close()"
   ]
  },
  {
   "cell_type": "code",
   "execution_count": 80,
   "metadata": {},
   "outputs": [
    {
     "name": "stdout",
     "output_type": "stream",
     "text": [
      "[[-0.42522287 -0.67010736  0.5873139 ]\n",
      " [ 0.4402938   0.93929124 -0.42909193]]\n"
     ]
    }
   ],
   "source": [
    "#문제 22. (텐서 플로우로 가중치를 랜점으로 생성하는 방법) 2x3행렬로 -1에서 1사이의 난수를 생성하는 변수 W를 생성하고 안의 내용을 확인하시오 !\n",
    "\n",
    "import tensorflow as tf\n",
    "\n",
    "W = tf.Variable(tf.random_uniform([2,3], -1, 1))\n",
    "\n",
    "init = tf.global_variables_initializer()\n",
    "\n",
    "sess = tf.Session()\n",
    "sess.run(init)\n",
    "print(sess.run(W))\n",
    "sess.close()"
   ]
  },
  {
   "cell_type": "code",
   "execution_count": 81,
   "metadata": {},
   "outputs": [
    {
     "name": "stdout",
     "output_type": "stream",
     "text": [
      "[[ 0.8730664  -0.30416036  0.66695786 ...  0.6086316   0.8780179\n",
      "   0.20683146]\n",
      " [ 0.37305593 -0.29965925  0.5444367  ... -0.51300645  0.2886641\n",
      "  -0.70930123]\n",
      " [ 0.6806414   0.27309847 -0.8303399  ... -0.04883766 -0.62420106\n",
      "   0.2734213 ]\n",
      " ...\n",
      " [ 0.65482545  0.54221654  0.6222713  ... -0.02185154  0.37688255\n",
      "  -0.13368821]\n",
      " [ 0.9844551  -0.4754796   0.47851062 ...  0.8492763   0.1808443\n",
      "   0.05456066]\n",
      " [ 0.0249536   0.51436925 -0.25743175 ...  0.05058217 -0.46639585\n",
      "   0.01495862]]\n"
     ]
    }
   ],
   "source": [
    "#문제 23. 이번에는 mnist데이터에 맞게 100x784와 내적할 가중치 행렬 784x50으로 W를 생성하시오 !\n",
    "\n",
    "import tensorflow as tf\n",
    "\n",
    "W = tf.Variable(tf.random_uniform([784,50], -1, 1))\n",
    "init = tf.global_variables_initializer()\n",
    "\n",
    "sess = tf.Session()\n",
    "sess.run(init)\n",
    "print(sess.run(W))\n",
    "sess.close()"
   ]
  },
  {
   "cell_type": "code",
   "execution_count": 86,
   "metadata": {},
   "outputs": [
    {
     "name": "stdout",
     "output_type": "stream",
     "text": [
      "Extracting MNIST_data/train-images-idx3-ubyte.gz\n",
      "Extracting MNIST_data/train-labels-idx1-ubyte.gz\n",
      "Extracting MNIST_data/t10k-images-idx3-ubyte.gz\n",
      "Extracting MNIST_data/t10k-labels-idx1-ubyte.gz\n",
      "(100, 50)\n"
     ]
    }
   ],
   "source": [
    "#문제 24. 위에서 만든 입력값 (문제21) 100x784와 지금 만든 가중치 785x50행렬과 내적을 한 결과를 출력하시오 !\n",
    "\n",
    "import tensorflow as tf\n",
    "from tensorflow.examples.tutorials.mnist import input_data\n",
    "\n",
    "mnist = input_data.read_data_sets(\"MNIST_data/\", one_hot = True)\n",
    "\n",
    "x = tf.placeholder(\"float\", [None,784])\n",
    "W = tf.Variable(tf.random_uniform([784,50], -1, 1))\n",
    "batch_xs, batch_ys = mnist.test.next_batch(100)\n",
    "init = tf.global_variables_initializer()\n",
    "z = tf.matmul(x, W)\n",
    "\n",
    "sess = tf.Session()\n",
    "sess.run(init)\n",
    "print(sess.run(z, feed_dict = {x : batch_xs}).shape)\n",
    "sess.close()"
   ]
  },
  {
   "cell_type": "code",
   "execution_count": 88,
   "metadata": {},
   "outputs": [
    {
     "name": "stdout",
     "output_type": "stream",
     "text": [
      "[1. 1. 1. 1. 1. 1. 1. 1. 1. 1. 1. 1. 1. 1. 1. 1. 1. 1. 1. 1. 1. 1. 1. 1.\n",
      " 1. 1. 1. 1. 1. 1. 1. 1. 1. 1. 1. 1. 1. 1. 1. 1. 1. 1. 1. 1. 1. 1. 1. 1.\n",
      " 1. 1.]\n"
     ]
    }
   ],
   "source": [
    "#문제 25. 1x50으로 bias를 생성하는데 변수 b로 생성하고 숫자를 다 1로 채우시오 !\n",
    "\n",
    "import tensorflow as tf\n",
    "\n",
    "b = tf.Variable(tf.ones([50]))\n",
    "init = tf.global_variables_initializer()\n",
    "\n",
    "sess = tf.Session()\n",
    "sess.run(init)\n",
    "print(sess.run(b))\n",
    "sess.close()"
   ]
  },
  {
   "cell_type": "code",
   "execution_count": 90,
   "metadata": {},
   "outputs": [
    {
     "name": "stdout",
     "output_type": "stream",
     "text": [
      "Extracting MNIST_data/train-images-idx3-ubyte.gz\n",
      "Extracting MNIST_data/train-labels-idx1-ubyte.gz\n",
      "Extracting MNIST_data/t10k-images-idx3-ubyte.gz\n",
      "Extracting MNIST_data/t10k-labels-idx1-ubyte.gz\n",
      "(100, 50)\n"
     ]
    }
   ],
   "source": [
    "#문제 26. 문제 24번에서 구한 두 행렬의 내적과 지금 방금 생성한 바이어스의 합을 출력하시오 !\n",
    "\n",
    "import tensorflow as tf\n",
    "from tensorflow.examples.tutorials.mnist import input_data\n",
    "\n",
    "mnist = input_data.read_data_sets(\"MNIST_data/\", one_hot = True)\n",
    "\n",
    "x = tf.placeholder(\"float\", [None,784])\n",
    "W = tf.Variable(tf.random_uniform([784,50], -1, 1))\n",
    "b = tf.Variable(tf.ones([50]))\n",
    "y = tf.matmul(x, W) + b\n",
    "batch_xs, batch_ys = mnist.test.next_batch(100)\n",
    "init = tf.global_variables_initializer()\n",
    "\n",
    "sess = tf.Session()\n",
    "sess.run(init)\n",
    "print(sess.run(y, feed_dict = {x : batch_xs}).shape)\n",
    "sess.close()"
   ]
  },
  {
   "cell_type": "code",
   "execution_count": 91,
   "metadata": {},
   "outputs": [
    {
     "name": "stdout",
     "output_type": "stream",
     "text": [
      "Extracting MNIST_data/train-images-idx3-ubyte.gz\n",
      "Extracting MNIST_data/train-labels-idx1-ubyte.gz\n",
      "Extracting MNIST_data/t10k-images-idx3-ubyte.gz\n",
      "Extracting MNIST_data/t10k-labels-idx1-ubyte.gz\n",
      "(100, 50)\n"
     ]
    }
   ],
   "source": [
    "#문제 27. 문제 26번에서 구한 가중의 합인 y값을 시그모이드 함수에 입력해서 출력한 결과를 출력하시오 !\n",
    "\n",
    "import tensorflow as tf\n",
    "from tensorflow.examples.tutorials.mnist import input_data\n",
    "\n",
    "mnist = input_data.read_data_sets(\"MNIST_data/\", one_hot = True)\n",
    "\n",
    "x = tf.placeholder(\"float\", [None,784])\n",
    "W = tf.Variable(tf.random_uniform([784,50], -1, 1))\n",
    "b = tf.Variable(tf.ones([50]))\n",
    "y = tf.matmul(x, W) + b\n",
    "y_hat = tf.nn.sigmoid(y)\n",
    "batch_xs, batch_ys = mnist.test.next_batch(100)\n",
    "init = tf.global_variables_initializer()\n",
    "\n",
    "sess = tf.Session()\n",
    "sess.run(init)\n",
    "print(sess.run(y_hat, feed_dict = {x : batch_xs}).shape)\n",
    "sess.close()"
   ]
  },
  {
   "cell_type": "code",
   "execution_count": 92,
   "metadata": {},
   "outputs": [
    {
     "name": "stdout",
     "output_type": "stream",
     "text": [
      "Extracting MNIST_data/train-images-idx3-ubyte.gz\n",
      "Extracting MNIST_data/train-labels-idx1-ubyte.gz\n",
      "Extracting MNIST_data/t10k-images-idx3-ubyte.gz\n",
      "Extracting MNIST_data/t10k-labels-idx1-ubyte.gz\n",
      "(100, 50)\n"
     ]
    }
   ],
   "source": [
    "#문제 28. 위의 활성화 함수를 Relu로 변경하시오 !\n",
    "\n",
    "import tensorflow as tf\n",
    "from tensorflow.examples.tutorials.mnist import input_data\n",
    "\n",
    "mnist = input_data.read_data_sets(\"MNIST_data/\", one_hot = True)\n",
    "\n",
    "x = tf.placeholder(\"float\", [None,784])\n",
    "W = tf.Variable(tf.random_uniform([784,50], -1, 1))\n",
    "b = tf.Variable(tf.ones([50]))\n",
    "y = tf.matmul(x, W) + b\n",
    "y_hat = tf.nn.relu(y)\n",
    "batch_xs, batch_ys = mnist.test.next_batch(100)\n",
    "init = tf.global_variables_initializer()\n",
    "\n",
    "sess = tf.Session()\n",
    "sess.run(init)\n",
    "print(sess.run(y_hat, feed_dict = {x : batch_xs}).shape)\n",
    "sess.close()"
   ]
  },
  {
   "cell_type": "code",
   "execution_count": 94,
   "metadata": {},
   "outputs": [
    {
     "name": "stdout",
     "output_type": "stream",
     "text": [
      "Extracting MNIST_data/train-images-idx3-ubyte.gz\n",
      "Extracting MNIST_data/train-labels-idx1-ubyte.gz\n",
      "Extracting MNIST_data/t10k-images-idx3-ubyte.gz\n",
      "Extracting MNIST_data/t10k-labels-idx1-ubyte.gz\n",
      "(100, 10)\n"
     ]
    }
   ],
   "source": [
    "#문제 29. 이번에는 Relu가 아니라 가중의 합인 y_hat을 softmax 함수를 통과시킨 결과가 어떻게 되는지 확인하시오 !\n",
    "#(10개짜리 확률벡터 100개 출력이 예상됨)\n",
    "\n",
    "import tensorflow as tf\n",
    "from tensorflow.examples.tutorials.mnist import input_data\n",
    "\n",
    "mnist = input_data.read_data_sets(\"MNIST_data/\", one_hot = True)\n",
    "\n",
    "x = tf.placeholder(\"float\", [None,784])\n",
    "W = tf.Variable(tf.random_uniform([784,10], -1, 1))\n",
    "b = tf.Variable(tf.ones([10]))\n",
    "y = tf.matmul(x, W) + b\n",
    "y_hat = tf.nn.softmax(y)\n",
    "batch_xs, batch_ys = mnist.test.next_batch(100)\n",
    "init = tf.global_variables_initializer()\n",
    "\n",
    "sess = tf.Session()\n",
    "sess.run(init)\n",
    "print(sess.run(y_hat, feed_dict = {x : batch_xs}).shape)\n",
    "sess.close()"
   ]
  },
  {
   "cell_type": "code",
   "execution_count": 96,
   "metadata": {},
   "outputs": [
    {
     "name": "stdout",
     "output_type": "stream",
     "text": [
      "Extracting MNIST_data/train-images-idx3-ubyte.gz\n",
      "Extracting MNIST_data/train-labels-idx1-ubyte.gz\n",
      "Extracting MNIST_data/t10k-images-idx3-ubyte.gz\n",
      "Extracting MNIST_data/t10k-labels-idx1-ubyte.gz\n",
      "[4 2 1 2 2 3 2 1 1 2 2 4 4 2 2 8 2 2 4 2 1 1 2 2 4 4 2 4 2 2 1 1 4 4 1 2 2\n",
      " 1 2 6 2 7 1 4 2 2 8 4 2 2 8 4 2 2 1 7 2 4 2 2 1 4 1 4 2 4 1 6 2 6 2 8 1 4\n",
      " 2 6 4 4 1 2 2 1 2 2 2 1 4 2 1 2 4 2 2 1 9 2 4 1 2 2]\n"
     ]
    }
   ],
   "source": [
    "#문제 30. 텐서 플로우의 argmax 함수를 이용해서 위에서 출력된 100x10확률벡터들의 최대값의 인덱스 번호를 100개 출력하시오 !\n",
    "\n",
    "import tensorflow as tf\n",
    "from tensorflow.examples.tutorials.mnist import input_data\n",
    "\n",
    "mnist = input_data.read_data_sets(\"MNIST_data/\", one_hot = True)\n",
    "\n",
    "x = tf.placeholder(\"float\", [None,784])\n",
    "W = tf.Variable(tf.random_uniform([784,10], -1, 1))\n",
    "b = tf.Variable(tf.ones([10]))\n",
    "y = tf.matmul(x, W) + b\n",
    "y_hat = tf.nn.softmax(y)\n",
    "y_predict = tf.argmax(y_hat, axis = 1)\n",
    "batch_xs, batch_ys = mnist.test.next_batch(100)\n",
    "init = tf.global_variables_initializer()\n",
    "\n",
    "sess = tf.Session()\n",
    "sess.run(init)\n",
    "print(sess.run(y_predict, feed_dict = {x : batch_xs}))\n",
    "sess.close()"
   ]
  },
  {
   "cell_type": "code",
   "execution_count": 107,
   "metadata": {},
   "outputs": [
    {
     "name": "stdout",
     "output_type": "stream",
     "text": [
      "Extracting MNIST_data/train-images-idx3-ubyte.gz\n",
      "Extracting MNIST_data/train-labels-idx1-ubyte.gz\n",
      "Extracting MNIST_data/t10k-images-idx3-ubyte.gz\n",
      "Extracting MNIST_data/t10k-labels-idx1-ubyte.gz\n",
      "0.13\n"
     ]
    }
   ],
   "source": [
    "#문제 31. 위의 코드에 라벨을 가져오는 코드를 추가해서 정확도를 출력하시오 !\n",
    "#(위의 예상 숫자 100개와 실제 숫자 100개를 비교)\n",
    "\n",
    "import tensorflow as tf\n",
    "from tensorflow.examples.tutorials.mnist import input_data\n",
    "\n",
    "mnist = input_data.read_data_sets(\"MNIST_data/\", one_hot = True)\n",
    "\n",
    "x = tf.placeholder(\"float\", [None,784])\n",
    "y_onehot = tf.placeholder(\"float\", [None, 10])\n",
    "y_label = tf.argmax(y_onehot, axis = 1)\n",
    "W = tf.Variable(tf.random_uniform([784,10], -1, 1))\n",
    "b = tf.Variable(tf.ones([10]))\n",
    "y = tf.matmul(x, W) + b\n",
    "y_hat = tf.nn.softmax(y)\n",
    "y_predict = tf.argmax(y_hat, axis = 1)\n",
    "correction_prediction = tf.equal(y_predict, y_label)\n",
    "accuracy = tf.reduce_mean(tf.cast(correction_prediction, \"float\"))\n",
    "\n",
    "batch_xs, batch_ys = mnist.test.next_batch(100)\n",
    "init = tf.global_variables_initializer()\n",
    "\n",
    "sess = tf.Session()\n",
    "sess.run(init)\n",
    "print(sess.run(accuracy, feed_dict = {x : batch_xs, y_onehot: batch_ys}))\n",
    "sess.close()"
   ]
  },
  {
   "cell_type": "code",
   "execution_count": 109,
   "metadata": {},
   "outputs": [
    {
     "name": "stdout",
     "output_type": "stream",
     "text": [
      "Extracting MNIST_data/train-images-idx3-ubyte.gz\n",
      "Extracting MNIST_data/train-labels-idx1-ubyte.gz\n",
      "Extracting MNIST_data/t10k-images-idx3-ubyte.gz\n",
      "Extracting MNIST_data/t10k-labels-idx1-ubyte.gz\n",
      "(100,)\n"
     ]
    }
   ],
   "source": [
    "#문제 32. 문제 31번 코드에 오차함수인 교차 엔트로피 함수를 추가하고 loss를 출력하시오 !\n",
    "\n",
    "import tensorflow as tf\n",
    "from tensorflow.examples.tutorials.mnist import input_data\n",
    "\n",
    "mnist = input_data.read_data_sets(\"MNIST_data/\", one_hot = True)\n",
    "\n",
    "x = tf.placeholder(\"float\", [None,784])\n",
    "y_onehot = tf.placeholder(\"float\", [None, 10])\n",
    "# y_label = tf.argmax(y_onehot, axis = 1)\n",
    "W = tf.Variable(tf.random_uniform([784,10], -1, 1))\n",
    "b = tf.Variable(tf.ones([10]))\n",
    "y = tf.matmul(x, W) + b\n",
    "y_hat = tf.nn.softmax(y)\n",
    "y_predict = tf.argmax(y_hat, axis = 1)\n",
    "# correction_prediction = tf.equal(y_predict, y_label)\n",
    "# accuracy = tf.reduce_mean(tf.cast(correction_prediction, \"float\"))\n",
    "loss = - tf.reduce_sum(y_onehot*tf.log(y_hat), axis = 1)\n",
    "\n",
    "batch_xs, batch_ys = mnist.test.next_batch(100)\n",
    "init = tf.global_variables_initializer()\n",
    "\n",
    "sess = tf.Session()\n",
    "sess.run(init)\n",
    "print(sess.run(loss, feed_dict = {x : batch_xs, y_onehot: batch_ys}).shape)\n",
    "sess.close()"
   ]
  },
  {
   "cell_type": "code",
   "execution_count": 113,
   "metadata": {},
   "outputs": [
    {
     "name": "stdout",
     "output_type": "stream",
     "text": [
      "Extracting MNIST_data/train-images-idx3-ubyte.gz\n",
      "Extracting MNIST_data/train-labels-idx1-ubyte.gz\n",
      "Extracting MNIST_data/t10k-images-idx3-ubyte.gz\n",
      "Extracting MNIST_data/t10k-labels-idx1-ubyte.gz\n",
      "0.09\n"
     ]
    }
   ],
   "source": [
    "#문제 33. 지금까지 만든 코드에 Adam 경사감소법 코드를 추가해서 학습이 되게 하시오 1\n",
    "\n",
    "import tensorflow as tf\n",
    "from tensorflow.examples.tutorials.mnist import input_data\n",
    "\n",
    "mnist = input_data.read_data_sets(\"MNIST_data/\", one_hot = True)\n",
    "\n",
    "x = tf.placeholder(\"float\", [None,784])\n",
    "y_onehot = tf.placeholder(\"float\", [None, 10])\n",
    "y_label = tf.argmax(y_onehot, axis = 1)\n",
    "W = tf.Variable(tf.random_uniform([784,10], -1, 1))\n",
    "b = tf.Variable(tf.ones([10]))\n",
    "y = tf.matmul(x, W) + b\n",
    "y_hat = tf.nn.softmax(y)\n",
    "y_predict = tf.argmax(y_hat, axis = 1)\n",
    "correction_prediction = tf.equal(y_predict, y_label)\n",
    "accuracy = tf.reduce_mean(tf.cast(correction_prediction, \"float\"))\n",
    "loss = - tf.reduce_sum(y_onehot*tf.log(y_hat), axis = 1)\n",
    "optimizer = tf.train.AdamOptimizer(learning_rate=0.01)\n",
    "train = optimizer.minimize(loss)\n",
    "\n",
    "batch_xs, batch_ys = mnist.test.next_batch(100)\n",
    "init = tf.global_variables_initializer()\n",
    "\n",
    "sess = tf.Session()\n",
    "sess.run(init)\n",
    "sess.run(train, feed_dict = {x : batch_xs, y_onehot: batch_ys})\n",
    "print(sess.run(accuracy, feed_dict = {x : batch_xs, y_onehot : batch_ys}))\n",
    "sess.close()"
   ]
  },
  {
   "cell_type": "code",
   "execution_count": 124,
   "metadata": {},
   "outputs": [
    {
     "name": "stdout",
     "output_type": "stream",
     "text": [
      "Extracting MNIST_data/train-images-idx3-ubyte.gz\n",
      "Extracting MNIST_data/train-labels-idx1-ubyte.gz\n",
      "Extracting MNIST_data/t10k-images-idx3-ubyte.gz\n",
      "Extracting MNIST_data/t10k-labels-idx1-ubyte.gz\n",
      "0.96\n"
     ]
    }
   ],
   "source": [
    "#문제 34. 위의 코드에 for loop문을 이용해서 1에폭 돌게 구성하시오 !\n",
    "\n",
    "import tensorflow as tf\n",
    "from tensorflow.examples.tutorials.mnist import input_data\n",
    "\n",
    "mnist = input_data.read_data_sets(\"MNIST_data/\", one_hot = True)\n",
    "\n",
    "x = tf.placeholder(\"float\", [None,784])\n",
    "y_onehot = tf.placeholder(\"float\", [None, 10])\n",
    "y_label = tf.argmax(y_onehot, axis = 1)\n",
    "W = tf.Variable(tf.random_uniform([784,10], -1, 1))\n",
    "b = tf.Variable(tf.ones([10]))\n",
    "y = tf.matmul(x, W) + b\n",
    "y_hat = tf.nn.softmax(y)\n",
    "y_predict = tf.argmax(y_hat, axis = 1)\n",
    "correction_prediction = tf.equal(y_predict, y_label)\n",
    "accuracy = tf.reduce_mean(tf.cast(correction_prediction, \"float\"))\n",
    "loss = - tf.reduce_sum(y_onehot*tf.log(y_hat), axis = 1)\n",
    "optimizer = tf.train.AdamOptimizer(learning_rate=0.01)\n",
    "train = optimizer.minimize(loss)\n",
    "\n",
    "init = tf.global_variables_initializer()\n",
    "\n",
    "sess = tf.Session()\n",
    "sess.run(init)\n",
    "for i in range(1, 601):\n",
    "    batch_xs, batch_ys = mnist.test.next_batch(100)\n",
    "    sess.run(train, feed_dict = {x : batch_xs, y_onehot: batch_ys})\n",
    "print(sess.run(accuracy, feed_dict = {x : batch_xs, y_onehot : batch_ys}))\n",
    "sess.close()"
   ]
  },
  {
   "cell_type": "code",
   "execution_count": 128,
   "metadata": {},
   "outputs": [
    {
     "name": "stdout",
     "output_type": "stream",
     "text": [
      "Extracting MNIST_data/train-images-idx3-ubyte.gz\n",
      "Extracting MNIST_data/train-labels-idx1-ubyte.gz\n",
      "Extracting MNIST_data/t10k-images-idx3-ubyte.gz\n",
      "Extracting MNIST_data/t10k-labels-idx1-ubyte.gz\n",
      "1 에폭 정확도 0.95\n",
      "2 에폭 정확도 0.98\n",
      "3 에폭 정확도 0.96\n"
     ]
    }
   ],
   "source": [
    "#문제 35. 위의 코드를 수정해서 아래와 같이 결과가 출력되게 하시오 ! (오늘의 마지막 문제)\n",
    "\n",
    "import tensorflow as tf\n",
    "from tensorflow.examples.tutorials.mnist import input_data\n",
    "\n",
    "mnist = input_data.read_data_sets(\"MNIST_data/\", one_hot = True)\n",
    "\n",
    "x = tf.placeholder(\"float\", [None,784])\n",
    "y_onehot = tf.placeholder(\"float\", [None, 10])\n",
    "y_label = tf.argmax(y_onehot, axis = 1)\n",
    "W = tf.Variable(tf.random_uniform([784,10], -1, 1))\n",
    "b = tf.Variable(tf.ones([10]))\n",
    "y = tf.matmul(x, W) + b\n",
    "y_hat = tf.nn.softmax(y)\n",
    "y_predict = tf.argmax(y_hat, axis = 1)\n",
    "correction_prediction = tf.equal(y_predict, y_label)\n",
    "accuracy = tf.reduce_mean(tf.cast(correction_prediction, \"float\"))\n",
    "loss = - tf.reduce_sum(y_onehot*tf.log(y_hat), axis = 1)\n",
    "optimizer = tf.train.AdamOptimizer(learning_rate=0.01)\n",
    "train = optimizer.minimize(loss)\n",
    "\n",
    "init = tf.global_variables_initializer()\n",
    "\n",
    "sess = tf.Session()\n",
    "sess.run(init)\n",
    "for i in range(1, 4):\n",
    "    for j in range(1, 601):\n",
    "        batch_xs, batch_ys = mnist.test.next_batch(100)\n",
    "        sess.run(train, feed_dict = {x : batch_xs, y_onehot: batch_ys})\n",
    "    print('%d 에폭 정확도'%i, sess.run(accuracy, feed_dict = {x : batch_xs, y_onehot : batch_ys}))\n",
    "\n",
    "sess.close()"
   ]
  }
 ],
 "metadata": {
  "kernelspec": {
   "display_name": "python_tensor",
   "language": "python",
   "name": "heaven"
  },
  "language_info": {
   "codemirror_mode": {
    "name": "ipython",
    "version": 3
   },
   "file_extension": ".py",
   "mimetype": "text/x-python",
   "name": "python",
   "nbconvert_exporter": "python",
   "pygments_lexer": "ipython3",
   "version": "3.6.8"
  }
 },
 "nbformat": 4,
 "nbformat_minor": 2
}
